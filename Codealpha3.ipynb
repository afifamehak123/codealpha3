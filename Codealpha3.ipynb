{
  "nbformat": 4,
  "nbformat_minor": 0,
  "metadata": {
    "colab": {
      "provenance": []
    },
    "kernelspec": {
      "name": "python3",
      "display_name": "Python 3"
    },
    "language_info": {
      "name": "python"
    }
  },
  "cells": [
    {
      "cell_type": "code",
      "execution_count": null,
      "metadata": {
        "colab": {
          "base_uri": "https://localhost:8080/"
        },
        "id": "KA30MM0Tb-8I",
        "outputId": "d98f77e2-baaa-4606-d906-731c72fec928"
      },
      "outputs": [
        {
          "output_type": "stream",
          "name": "stdout",
          "text": [
            "Requirement already satisfied: nltk in /usr/local/lib/python3.10/dist-packages (3.9.1)\n",
            "Requirement already satisfied: click in /usr/local/lib/python3.10/dist-packages (from nltk) (8.1.7)\n",
            "Requirement already satisfied: joblib in /usr/local/lib/python3.10/dist-packages (from nltk) (1.4.2)\n",
            "Requirement already satisfied: regex>=2021.8.3 in /usr/local/lib/python3.10/dist-packages (from nltk) (2024.9.11)\n",
            "Requirement already satisfied: tqdm in /usr/local/lib/python3.10/dist-packages (from nltk) (4.66.6)\n"
          ]
        }
      ],
      "source": [
        "!pip install nltk\n"
      ]
    },
    {
      "cell_type": "code",
      "source": [],
      "metadata": {
        "id": "tHvY-F85cjg9"
      },
      "execution_count": null,
      "outputs": []
    },
    {
      "cell_type": "code",
      "source": [
        "import nltk\n",
        "import random\n",
        "from nltk.chat.util import Chat, reflections\n",
        "\n",
        "# Download necessary NLTK data (you might need to run this once)\n",
        "nltk.download('punkt')\n",
        "\n",
        "# Define a set of patterns and responses\n",
        "patterns = [\n",
        "    (r\"Hi|Hello|Hey\", [\"Hello! How can I assist you today?\", \"Hi there! How can I help you?\"]),\n",
        "    (r\"How are you?\", [\"I'm good, thank you for asking!\", \"I'm doing great, how about you?\"]),\n",
        "    (r\"What's your name?\", [\"I am a chatbot created to assist you.\", \"You can call me ChatBot.\"]),\n",
        "    (r\"Tell me a joke\", [\"Why don't scientists trust atoms? Because they make up everything!\",\n",
        "                        \"Why don't skeletons fight each other? They don't have the guts.\"]),\n",
        "    (r\"Bye|Goodbye\", [\"Goodbye! Have a great day!\", \"See you soon!\"]),\n",
        "    (r\"(.*)\", [\"Sorry, I don't understand that. Can you rephrase?\", \"I didn't quite get that. Could you say that differently?\"]),\n",
        "]\n",
        "\n",
        "# Create a chatbot instance\n",
        "chatbot = Chat(patterns, reflections)\n",
        "\n",
        "# Function to initiate conversation\n",
        "def chat():\n",
        "    print(\"ChatBot: Hi! Type 'Bye' to exit.\")  # Greet user\n",
        "    while True:\n",
        "        user_input = input(\"You: \")  # Take user input\n",
        "        if user_input.lower() == \"bye\":  # Exit condition\n",
        "            print(\"ChatBot: Goodbye!\")\n",
        "            break\n",
        "        response = chatbot.respond(user_input)  # Get response from chatbot\n",
        "        print(\"ChatBot:\", response)\n",
        "\n",
        "# Run the chatbot\n",
        "chat()\n"
      ],
      "metadata": {
        "colab": {
          "base_uri": "https://localhost:8080/"
        },
        "id": "Sg0EU5-bcIbz",
        "outputId": "bfdfc886-ceaf-4c35-b270-92f8d1a97e15"
      },
      "execution_count": null,
      "outputs": [
        {
          "output_type": "stream",
          "name": "stderr",
          "text": [
            "[nltk_data] Downloading package punkt to /root/nltk_data...\n",
            "[nltk_data]   Unzipping tokenizers/punkt.zip.\n"
          ]
        },
        {
          "output_type": "stream",
          "name": "stdout",
          "text": [
            "ChatBot: Hi! Type 'Bye' to exit.\n",
            "You: hi\n",
            "ChatBot: Hello! How can I assist you today?\n",
            "You: how are you\n",
            "ChatBot: I'm good, thank you for asking!\n",
            "You: what are you doing\n",
            "ChatBot: I didn't quite get that. Could you say that differently?\n",
            "You: whats your name\n",
            "ChatBot: Sorry, I don't understand that. Can you rephrase?\n",
            "You: What's your name?\n",
            "ChatBot: You can call me ChatBot.\n",
            "You: Tell me a joke\n",
            "ChatBot: Why don't skeletons fight each other? They don't have the guts.\n",
            "You: Bye\n",
            "ChatBot: Goodbye!\n"
          ]
        }
      ]
    },
    {
      "cell_type": "markdown",
      "source": [],
      "metadata": {
        "id": "WB2j7f_Lc4UB"
      }
    }
  ]
}